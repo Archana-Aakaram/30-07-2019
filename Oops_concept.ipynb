{
 "cells": [
  {
   "cell_type": "markdown",
   "metadata": {},
   "source": [
    "## 30-07-2019\n",
    "### Oops"
   ]
  },
  {
   "cell_type": "code",
   "execution_count": 1,
   "metadata": {},
   "outputs": [
    {
     "name": "stdout",
     "output_type": "stream",
     "text": [
      "Hello Everyone!\n"
     ]
    }
   ],
   "source": [
    "class Abc:\n",
    "    def printinfo(self):\n",
    "        print(\"Hello Everyone!\")\n",
    "obj = Abc()\n",
    "obj.printinfo()"
   ]
  },
  {
   "cell_type": "code",
   "execution_count": 12,
   "metadata": {},
   "outputs": [
    {
     "name": "stdout",
     "output_type": "stream",
     "text": [
      "28.274333882308138\n",
      "12.566370614359172\n"
     ]
    }
   ],
   "source": [
    "import math\n",
    "class Circle:\n",
    "    def Area(self,a):\n",
    "        print(math.pi*(a*a))\n",
    "    def perimeter(self,a):\n",
    "        print(2*math.pi*a)\n",
    "obj1 = Circle()\n",
    "obj1.Area(3)\n",
    "obj1.perimeter(2)"
   ]
  },
  {
   "cell_type": "code",
   "execution_count": null,
   "metadata": {},
   "outputs": [],
   "source": [
    "import math\n",
    "class Circle:\n",
    "\n",
    "    def Area(self,a):\n",
    "        print(\"Area of circle \",math.pi*(a*a))\n",
    "    def perimeter(self,a):\n",
    "        print(\"Perimeter of Circle \",2*math.pi*a)\n",
    "n = int(input(\" How many circle do you want : \\n\"))\n",
    "for i in range(1,n+1):\n",
    "    b = int(input(\"\\nEnter circle radius \\n\"))\n",
    "    obj1 = Circle()\n",
    "    obj1.Area(b)\n",
    "    obj1.perimeter(b)"
   ]
  },
  {
   "cell_type": "code",
   "execution_count": 6,
   "metadata": {},
   "outputs": [
    {
     "name": "stdout",
     "output_type": "stream",
     "text": [
      "28.274333882308138\n",
      "18.84955592153876\n",
      "50.26548245743669\n",
      "25.132741228718345\n"
     ]
    }
   ],
   "source": [
    "import math\n",
    "class Circle:\n",
    "    def __init__(self,a):\n",
    "        self.a = a\n",
    "    def Area(self):\n",
    "        print(math.pi*(self.a*self.a))\n",
    "    def perimeter(self):\n",
    "        print(2*math.pi*self.a)\n",
    "c1 = Circle(3)\n",
    "c1.Area()\n",
    "c1.perimeter()\n",
    "c2 = Circle(4)\n",
    "c2.Area()\n",
    "c2.perimeter()"
   ]
  },
  {
   "cell_type": "code",
   "execution_count": 8,
   "metadata": {},
   "outputs": [
    {
     "name": "stdout",
     "output_type": "stream",
     "text": [
      "Enter your mobile cost : 1200\n",
      "1200\n",
      "Enter Samsung mobile cost : 1300\n",
      "1300\n"
     ]
    }
   ],
   "source": [
    "class M1:\n",
    "    def cost(self):\n",
    "        print(int(input(\"Enter your mobile cost : \")))\n",
    "class Samsung :\n",
    "    def cost1(self):\n",
    "        print(int(input(\"Enter Samsung mobile cost : \")))\n",
    "a = M1()\n",
    "a.cost()\n",
    "b = Samsung()\n",
    "b.cost1()\n"
   ]
  },
  {
   "cell_type": "code",
   "execution_count": 9,
   "metadata": {},
   "outputs": [
    {
     "name": "stdout",
     "output_type": "stream",
     "text": [
      "Enter your mobile cost : 12312412\n",
      "12312412\n"
     ]
    }
   ],
   "source": [
    "#Single\n",
    "class Mi:\n",
    "    def cost(self):\n",
    "        print(int(input(\"Enter your mobile cost : \")))\n",
    "class Samsung(Mi) :\n",
    "    def cost1(self):\n",
    "        print(int(input(\"Enter Samsung mobile cost : \")))\n",
    "a = Samsung()\n",
    "a.cost()\n",
    "\n"
   ]
  },
  {
   "cell_type": "code",
   "execution_count": 13,
   "metadata": {},
   "outputs": [
    {
     "name": "stdout",
     "output_type": "stream",
     "text": [
      "Good Camera\n",
      "Good Brand to Buy\n",
      "Best to buy in mobile in case of cost : \n"
     ]
    }
   ],
   "source": [
    "#Multi level\n",
    "class Mi:\n",
    "    def adv(self):\n",
    "        print(\"Best to buy in mobile in case of cost : \")\n",
    "class Samsung(Mi) :\n",
    "    def adv1(self):\n",
    "        print(\"Good Brand to Buy\")\n",
    "class oppo(Samsung) :\n",
    "    def adv2(self):\n",
    "        print(\"Good Camera\")\n",
    "a = oppo()\n",
    "a.adv2()\n",
    "a.adv1()\n",
    "a.adv()\n"
   ]
  },
  {
   "cell_type": "code",
   "execution_count": 16,
   "metadata": {},
   "outputs": [
    {
     "name": "stdout",
     "output_type": "stream",
     "text": [
      "Good Camera\n",
      "Good Camera\n",
      "Good Camera\n"
     ]
    }
   ],
   "source": [
    "#Multiple\n",
    "class Mi:\n",
    "    def adv(self):\n",
    "        print(\"Mi : Best to buy in mobile in case of cost : \")\n",
    "class Samsung() :\n",
    "    def adv(self):\n",
    "        print(\"Samsung : Good Brand to Buy\")\n",
    "class oppo(Mi,Samsung) :\n",
    "    def adv(self):\n",
    "        print(\"oppo : Good Camera\")\n",
    "a = oppo()\n",
    "a.adv()\n",
    "#a.adv()\n",
    "#a.adv()\n"
   ]
  },
  {
   "cell_type": "code",
   "execution_count": 20,
   "metadata": {},
   "outputs": [
    {
     "name": "stdout",
     "output_type": "stream",
     "text": [
      "oppo: Good Camera\n",
      "Mi:Best to buy in mobile in case of cost : \n",
      "Samsung : Good Brand to Buy\n",
      "Mi:Best to buy in mobile in case of cost : \n"
     ]
    }
   ],
   "source": [
    "#Hierarchial\n",
    "class Mi:\n",
    "    def adv(self):\n",
    "        print(\"Mi:Best to buy in mobile in case of cost : \")\n",
    "class Samsung(Mi) :\n",
    "    def adv1(self):\n",
    "        print(\"Samsung : Good Brand to Buy\")\n",
    "class oppo(Mi) :\n",
    "    def adv2(self):\n",
    "        print(\"oppo: Good Camera\")\n",
    "a = oppo()\n",
    "a.adv2()\n",
    "#a.adv1()\n",
    "a.adv()\n",
    "a = Samsung()\n",
    "#a.adv2()\n",
    "a.adv1()\n",
    "a.adv()"
   ]
  },
  {
   "cell_type": "code",
   "execution_count": 24,
   "metadata": {},
   "outputs": [
    {
     "ename": "TypeError",
     "evalue": "Cannot create a consistent method resolution\norder (MRO) for bases Mi, oppo",
     "output_type": "error",
     "traceback": [
      "\u001b[1;31m---------------------------------------------------------------------------\u001b[0m",
      "\u001b[1;31mTypeError\u001b[0m                                 Traceback (most recent call last)",
      "\u001b[1;32m<ipython-input-24-7ef07e62c496>\u001b[0m in \u001b[0;36m<module>\u001b[1;34m\u001b[0m\n\u001b[0;32m      9\u001b[0m     \u001b[1;32mdef\u001b[0m \u001b[0madv2\u001b[0m\u001b[1;33m(\u001b[0m\u001b[0mself\u001b[0m\u001b[1;33m)\u001b[0m\u001b[1;33m:\u001b[0m\u001b[1;33m\u001b[0m\u001b[1;33m\u001b[0m\u001b[0m\n\u001b[0;32m     10\u001b[0m         \u001b[0mprint\u001b[0m\u001b[1;33m(\u001b[0m\u001b[1;34m\"oppo: Good Camera\"\u001b[0m\u001b[1;33m)\u001b[0m\u001b[1;33m\u001b[0m\u001b[1;33m\u001b[0m\u001b[0m\n\u001b[1;32m---> 11\u001b[1;33m \u001b[1;32mclass\u001b[0m \u001b[0mhonor\u001b[0m\u001b[1;33m(\u001b[0m\u001b[0mMi\u001b[0m\u001b[1;33m,\u001b[0m\u001b[0moppo\u001b[0m\u001b[1;33m)\u001b[0m \u001b[1;33m:\u001b[0m\u001b[1;33m\u001b[0m\u001b[1;33m\u001b[0m\u001b[0m\n\u001b[0m\u001b[0;32m     12\u001b[0m     \u001b[1;32mdef\u001b[0m \u001b[0madv3\u001b[0m\u001b[1;33m(\u001b[0m\u001b[0mself\u001b[0m\u001b[1;33m)\u001b[0m\u001b[1;33m:\u001b[0m\u001b[1;33m\u001b[0m\u001b[1;33m\u001b[0m\u001b[0m\n\u001b[0;32m     13\u001b[0m         \u001b[0mprint\u001b[0m\u001b[1;33m(\u001b[0m\u001b[1;34m\"honor: Wifi Sharing\"\u001b[0m\u001b[1;33m)\u001b[0m\u001b[1;33m\u001b[0m\u001b[1;33m\u001b[0m\u001b[0m\n",
      "\u001b[1;31mTypeError\u001b[0m: Cannot create a consistent method resolution\norder (MRO) for bases Mi, oppo"
     ]
    }
   ],
   "source": [
    "#Hybrid\n",
    "class Mi:\n",
    "    def adv(self):\n",
    "        print(\"Mi:Best to buy in mobile in case of cost : \")\n",
    "class Samsung(Mi) :\n",
    "    def adv1(self):\n",
    "        print(\"Samsung : Good Brand to Buy\")\n",
    "class oppo(Mi) :\n",
    "    def adv2(self):\n",
    "        print(\"oppo: Good Camera\")\n",
    "class honor(Mi,oppo) :\n",
    "    def adv3(self):\n",
    "        print(\"honor: Wifi Sharing\")\n",
    "a = honor()\n",
    "a.adv3()"
   ]
  },
  {
   "cell_type": "code",
   "execution_count": 31,
   "metadata": {},
   "outputs": [
    {
     "name": "stdout",
     "output_type": "stream",
     "text": [
      "Samsung : Good Brand to Buy\n"
     ]
    }
   ],
   "source": [
    "#Method Overriding\n",
    "class Mi:\n",
    "    def adv(self):\n",
    "        print(\"Mi : Best to buy in mobile in case of cost : \")\n",
    "class Samsung(Mi) :\n",
    "    def adv(self):\n",
    "        print(\"Samsung : Good Brand to Buy\")\n",
    "a = Samsung()\n",
    "a.adv()\n",
    "\n"
   ]
  },
  {
   "cell_type": "code",
   "execution_count": 29,
   "metadata": {},
   "outputs": [
    {
     "name": "stdout",
     "output_type": "stream",
     "text": [
      "8791415559264 8791415559264 8791415559264\n"
     ]
    }
   ],
   "source": [
    "x=10\n",
    "y=10\n",
    "z=10\n",
    "print(id(x),id(y),id(z))"
   ]
  },
  {
   "cell_type": "code",
   "execution_count": 37,
   "metadata": {},
   "outputs": [
    {
     "name": "stdout",
     "output_type": "stream",
     "text": [
      "Samsung : Good Brand to Buy samsung\n"
     ]
    }
   ],
   "source": [
    "#method overloading\n",
    "def adv():\n",
    "        print(\"Mi : Best to buy in mobile in case of cost : \")\n",
    "def adv(mobile):\n",
    "        print(\"Samsung : Good Brand to Buy\",mobile)\n",
    "\n",
    "#adv(mi)\n",
    "adv(\"samsung\")\n",
    "\n"
   ]
  },
  {
   "cell_type": "markdown",
   "metadata": {},
   "source": [
    "- members variable creation inside a class, outside the function local variables,global variables\n",
    "- hiding data : how to create a private members\n",
    "- how to overload operators (go to magical methods like +,-...)"
   ]
  },
  {
   "cell_type": "code",
   "execution_count": 51,
   "metadata": {},
   "outputs": [
    {
     "name": "stdout",
     "output_type": "stream",
     "text": [
      "0\n",
      "32\n"
     ]
    }
   ],
   "source": [
    "#sum = 0\n",
    "class a:\n",
    "    sum = 3\n",
    "    print(sum)\n",
    "    def add(self,a,b):\n",
    "        sum = a+b\n",
    "        print(sum)\n",
    "b = a()\n",
    "b.add(11,21)"
   ]
  },
  {
   "cell_type": "code",
   "execution_count": 57,
   "metadata": {},
   "outputs": [
    {
     "name": "stdout",
     "output_type": "stream",
     "text": [
      "6\n",
      "11\n"
     ]
    }
   ],
   "source": [
    "class MyClass:\n",
    "    __hiddenVariable = 4     # Private member of MyClass\n",
    "    _protectedVar = 0        # Protected member of MyClass\n",
    "\n",
    "    # A member method that changes __hiddenVariable\n",
    "    def add(self, increment):\n",
    "        self.__hiddenVariable += increment\n",
    "        print (self.__hiddenVariable)\n",
    "\n",
    "\n",
    "myObject = MyClass()\n",
    "myObject.add(2)\n",
    "myObject.add(5)\n",
    "\n",
    "# This will causes error\n",
    "#print (MyClass.__hiddenVariable)\n",
    "#print (MyClass._protectedVar)"
   ]
  },
  {
   "cell_type": "code",
   "execution_count": 56,
   "metadata": {},
   "outputs": [
    {
     "name": "stdout",
     "output_type": "stream",
     "text": [
      "4\n"
     ]
    }
   ],
   "source": [
    "class MyClass:\n",
    "    __hiddenVariable = 4    # Hidden member of MyClass\n",
    "myObject = MyClass()\n",
    "print(myObject._MyClass__hiddenVariable)"
   ]
  },
  {
   "cell_type": "code",
   "execution_count": null,
   "metadata": {},
   "outputs": [],
   "source": []
  }
 ],
 "metadata": {
  "kernelspec": {
   "display_name": "Python 3",
   "language": "python",
   "name": "python3"
  },
  "language_info": {
   "codemirror_mode": {
    "name": "ipython",
    "version": 3
   },
   "file_extension": ".py",
   "mimetype": "text/x-python",
   "name": "python",
   "nbconvert_exporter": "python",
   "pygments_lexer": "ipython3",
   "version": "3.7.3"
  }
 },
 "nbformat": 4,
 "nbformat_minor": 2
}
